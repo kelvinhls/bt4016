{
 "cells": [
  {
   "cell_type": "markdown",
   "metadata": {},
   "source": [
    "## Question 1"
   ]
  },
  {
   "cell_type": "code",
   "execution_count": 1,
   "metadata": {},
   "outputs": [],
   "source": [
    "import pandas as pd\n",
    "import numpy as np\n",
    "from datetime import datetime \n",
    "import keras\n",
    "from keras.models import Sequential\n",
    "from keras.layers import Dense\n",
    "from sklearn.preprocessing import LabelEncoder, OneHotEncoder\n",
    "from sklearn.model_selection import train_test_split, GridSearchCV\n",
    "from sklearn.preprocessing import StandardScaler\n",
    "from sklearn.metrics import confusion_matrix\n",
    "from sklearn.metrics import precision_score\n",
    "from sklearn.metrics import f1_score\n",
    "import xgboost as xgb\n",
    "from xgboost import plot_importance"
   ]
  },
  {
   "cell_type": "code",
   "execution_count": 2,
   "metadata": {},
   "outputs": [
    {
     "data": {
      "text/html": [
       "<div>\n",
       "<style scoped>\n",
       "    .dataframe tbody tr th:only-of-type {\n",
       "        vertical-align: middle;\n",
       "    }\n",
       "\n",
       "    .dataframe tbody tr th {\n",
       "        vertical-align: top;\n",
       "    }\n",
       "\n",
       "    .dataframe thead th {\n",
       "        text-align: right;\n",
       "    }\n",
       "</style>\n",
       "<table border=\"1\" class=\"dataframe\">\n",
       "  <thead>\n",
       "    <tr style=\"text-align: right;\">\n",
       "      <th></th>\n",
       "      <th>gvkey</th>\n",
       "      <th>datadate</th>\n",
       "      <th>conm</th>\n",
       "      <th>at</th>\n",
       "      <th>cogs</th>\n",
       "      <th>csho</th>\n",
       "      <th>dvp</th>\n",
       "      <th>ebit</th>\n",
       "      <th>gp</th>\n",
       "      <th>ib</th>\n",
       "      <th>...</th>\n",
       "      <th>xido</th>\n",
       "      <th>xopr</th>\n",
       "      <th>mkvalt</th>\n",
       "      <th>sic</th>\n",
       "      <th>bankrupt</th>\n",
       "      <th>Altman_X1</th>\n",
       "      <th>Altman_X2</th>\n",
       "      <th>Altman_X3</th>\n",
       "      <th>Altman_X4</th>\n",
       "      <th>Altman_X5</th>\n",
       "    </tr>\n",
       "  </thead>\n",
       "  <tbody>\n",
       "    <tr>\n",
       "      <th>0</th>\n",
       "      <td>1240</td>\n",
       "      <td>2002-01-31</td>\n",
       "      <td>ALBERTSON'S INC</td>\n",
       "      <td>15967.000</td>\n",
       "      <td>26094.000</td>\n",
       "      <td>407.000</td>\n",
       "      <td>0.0</td>\n",
       "      <td>1787.000</td>\n",
       "      <td>11837.000</td>\n",
       "      <td>501.000</td>\n",
       "      <td>...</td>\n",
       "      <td>0.000</td>\n",
       "      <td>35118.000</td>\n",
       "      <td>11701.2500</td>\n",
       "      <td>5411.0</td>\n",
       "      <td>0</td>\n",
       "      <td>0.064320</td>\n",
       "      <td>0.339074</td>\n",
       "      <td>0.111918</td>\n",
       "      <td>1.164072</td>\n",
       "      <td>2.375587</td>\n",
       "    </tr>\n",
       "    <tr>\n",
       "      <th>1</th>\n",
       "      <td>1655</td>\n",
       "      <td>2002-01-31</td>\n",
       "      <td>ANGELICA CORP</td>\n",
       "      <td>290.865</td>\n",
       "      <td>246.466</td>\n",
       "      <td>8.608</td>\n",
       "      <td>0.0</td>\n",
       "      <td>12.856</td>\n",
       "      <td>103.597</td>\n",
       "      <td>1.629</td>\n",
       "      <td>...</td>\n",
       "      <td>-24.338</td>\n",
       "      <td>326.107</td>\n",
       "      <td>101.5744</td>\n",
       "      <td>7200.0</td>\n",
       "      <td>0</td>\n",
       "      <td>0.161449</td>\n",
       "      <td>0.488845</td>\n",
       "      <td>0.044199</td>\n",
       "      <td>0.680060</td>\n",
       "      <td>1.203524</td>\n",
       "    </tr>\n",
       "    <tr>\n",
       "      <th>2</th>\n",
       "      <td>1864</td>\n",
       "      <td>2002-01-31</td>\n",
       "      <td>REX AMERICAN RESOURCES CORP</td>\n",
       "      <td>307.329</td>\n",
       "      <td>325.912</td>\n",
       "      <td>8.163</td>\n",
       "      <td>0.0</td>\n",
       "      <td>22.236</td>\n",
       "      <td>138.591</td>\n",
       "      <td>22.554</td>\n",
       "      <td>...</td>\n",
       "      <td>-0.245</td>\n",
       "      <td>438.069</td>\n",
       "      <td>240.4004</td>\n",
       "      <td>2860.0</td>\n",
       "      <td>0</td>\n",
       "      <td>0.300186</td>\n",
       "      <td>0.438319</td>\n",
       "      <td>0.072352</td>\n",
       "      <td>1.508575</td>\n",
       "      <td>1.511419</td>\n",
       "    </tr>\n",
       "    <tr>\n",
       "      <th>3</th>\n",
       "      <td>1878</td>\n",
       "      <td>2002-01-31</td>\n",
       "      <td>AUTODESK INC</td>\n",
       "      <td>902.444</td>\n",
       "      <td>124.903</td>\n",
       "      <td>55.644</td>\n",
       "      <td>0.0</td>\n",
       "      <td>131.804</td>\n",
       "      <td>822.588</td>\n",
       "      <td>90.313</td>\n",
       "      <td>...</td>\n",
       "      <td>0.000</td>\n",
       "      <td>768.484</td>\n",
       "      <td>2281.4040</td>\n",
       "      <td>7370.0</td>\n",
       "      <td>0</td>\n",
       "      <td>0.214106</td>\n",
       "      <td>0.079664</td>\n",
       "      <td>0.146052</td>\n",
       "      <td>6.114234</td>\n",
       "      <td>1.049917</td>\n",
       "    </tr>\n",
       "    <tr>\n",
       "      <th>4</th>\n",
       "      <td>2436</td>\n",
       "      <td>2002-01-31</td>\n",
       "      <td>CALERES INC</td>\n",
       "      <td>700.898</td>\n",
       "      <td>1044.110</td>\n",
       "      <td>17.484</td>\n",
       "      <td>0.0</td>\n",
       "      <td>54.842</td>\n",
       "      <td>711.738</td>\n",
       "      <td>0.949</td>\n",
       "      <td>...</td>\n",
       "      <td>-4.911</td>\n",
       "      <td>1674.299</td>\n",
       "      <td>278.6950</td>\n",
       "      <td>3140.0</td>\n",
       "      <td>0</td>\n",
       "      <td>0.321669</td>\n",
       "      <td>0.206953</td>\n",
       "      <td>0.078245</td>\n",
       "      <td>0.627350</td>\n",
       "      <td>2.505141</td>\n",
       "    </tr>\n",
       "  </tbody>\n",
       "</table>\n",
       "<p>5 rows × 30 columns</p>\n",
       "</div>"
      ],
      "text/plain": [
       "   gvkey    datadate                         conm         at       cogs  \\\n",
       "0   1240  2002-01-31              ALBERTSON'S INC  15967.000  26094.000   \n",
       "1   1655  2002-01-31                ANGELICA CORP    290.865    246.466   \n",
       "2   1864  2002-01-31  REX AMERICAN RESOURCES CORP    307.329    325.912   \n",
       "3   1878  2002-01-31                 AUTODESK INC    902.444    124.903   \n",
       "4   2436  2002-01-31                  CALERES INC    700.898   1044.110   \n",
       "\n",
       "      csho  dvp      ebit         gp       ib  ...    xido       xopr  \\\n",
       "0  407.000  0.0  1787.000  11837.000  501.000  ...   0.000  35118.000   \n",
       "1    8.608  0.0    12.856    103.597    1.629  ... -24.338    326.107   \n",
       "2    8.163  0.0    22.236    138.591   22.554  ...  -0.245    438.069   \n",
       "3   55.644  0.0   131.804    822.588   90.313  ...   0.000    768.484   \n",
       "4   17.484  0.0    54.842    711.738    0.949  ...  -4.911   1674.299   \n",
       "\n",
       "       mkvalt     sic  bankrupt  Altman_X1  Altman_X2  Altman_X3  Altman_X4  \\\n",
       "0  11701.2500  5411.0         0   0.064320   0.339074   0.111918   1.164072   \n",
       "1    101.5744  7200.0         0   0.161449   0.488845   0.044199   0.680060   \n",
       "2    240.4004  2860.0         0   0.300186   0.438319   0.072352   1.508575   \n",
       "3   2281.4040  7370.0         0   0.214106   0.079664   0.146052   6.114234   \n",
       "4    278.6950  3140.0         0   0.321669   0.206953   0.078245   0.627350   \n",
       "\n",
       "   Altman_X5  \n",
       "0   2.375587  \n",
       "1   1.203524  \n",
       "2   1.511419  \n",
       "3   1.049917  \n",
       "4   2.505141  \n",
       "\n",
       "[5 rows x 30 columns]"
      ]
     },
     "execution_count": 2,
     "metadata": {},
     "output_type": "execute_result"
    }
   ],
   "source": [
    "df = pd.read_csv(\"train.csv\")\n",
    "df.head()"
   ]
  },
  {
   "cell_type": "code",
   "execution_count": 3,
   "metadata": {
    "scrolled": true
   },
   "outputs": [
    {
     "data": {
      "text/html": [
       "<div>\n",
       "<style scoped>\n",
       "    .dataframe tbody tr th:only-of-type {\n",
       "        vertical-align: middle;\n",
       "    }\n",
       "\n",
       "    .dataframe tbody tr th {\n",
       "        vertical-align: top;\n",
       "    }\n",
       "\n",
       "    .dataframe thead th {\n",
       "        text-align: right;\n",
       "    }\n",
       "</style>\n",
       "<table border=\"1\" class=\"dataframe\">\n",
       "  <thead>\n",
       "    <tr style=\"text-align: right;\">\n",
       "      <th></th>\n",
       "      <th>Altman_X1</th>\n",
       "      <th>Altman_X2</th>\n",
       "      <th>Altman_X3</th>\n",
       "      <th>Altman_X4</th>\n",
       "      <th>Altman_X5</th>\n",
       "    </tr>\n",
       "  </thead>\n",
       "  <tbody>\n",
       "    <tr>\n",
       "      <th>0</th>\n",
       "      <td>0.064320</td>\n",
       "      <td>0.339074</td>\n",
       "      <td>0.111918</td>\n",
       "      <td>1.164072</td>\n",
       "      <td>2.375587</td>\n",
       "    </tr>\n",
       "    <tr>\n",
       "      <th>1</th>\n",
       "      <td>0.161449</td>\n",
       "      <td>0.488845</td>\n",
       "      <td>0.044199</td>\n",
       "      <td>0.680060</td>\n",
       "      <td>1.203524</td>\n",
       "    </tr>\n",
       "    <tr>\n",
       "      <th>2</th>\n",
       "      <td>0.300186</td>\n",
       "      <td>0.438319</td>\n",
       "      <td>0.072352</td>\n",
       "      <td>1.508575</td>\n",
       "      <td>1.511419</td>\n",
       "    </tr>\n",
       "    <tr>\n",
       "      <th>3</th>\n",
       "      <td>0.214106</td>\n",
       "      <td>0.079664</td>\n",
       "      <td>0.146052</td>\n",
       "      <td>6.114234</td>\n",
       "      <td>1.049917</td>\n",
       "    </tr>\n",
       "    <tr>\n",
       "      <th>4</th>\n",
       "      <td>0.321669</td>\n",
       "      <td>0.206953</td>\n",
       "      <td>0.078245</td>\n",
       "      <td>0.627350</td>\n",
       "      <td>2.505141</td>\n",
       "    </tr>\n",
       "  </tbody>\n",
       "</table>\n",
       "</div>"
      ],
      "text/plain": [
       "   Altman_X1  Altman_X2  Altman_X3  Altman_X4  Altman_X5\n",
       "0   0.064320   0.339074   0.111918   1.164072   2.375587\n",
       "1   0.161449   0.488845   0.044199   0.680060   1.203524\n",
       "2   0.300186   0.438319   0.072352   1.508575   1.511419\n",
       "3   0.214106   0.079664   0.146052   6.114234   1.049917\n",
       "4   0.321669   0.206953   0.078245   0.627350   2.505141"
      ]
     },
     "execution_count": 3,
     "metadata": {},
     "output_type": "execute_result"
    }
   ],
   "source": [
    "to_calculate =  df[['Altman_X1','Altman_X2','Altman_X3','Altman_X4','Altman_X5']]\n",
    "to_calculate.head()"
   ]
  },
  {
   "cell_type": "code",
   "execution_count": 4,
   "metadata": {},
   "outputs": [
    {
     "data": {
      "text/html": [
       "<div>\n",
       "<style scoped>\n",
       "    .dataframe tbody tr th:only-of-type {\n",
       "        vertical-align: middle;\n",
       "    }\n",
       "\n",
       "    .dataframe tbody tr th {\n",
       "        vertical-align: top;\n",
       "    }\n",
       "\n",
       "    .dataframe thead th {\n",
       "        text-align: right;\n",
       "    }\n",
       "</style>\n",
       "<table border=\"1\" class=\"dataframe\">\n",
       "  <thead>\n",
       "    <tr style=\"text-align: right;\">\n",
       "      <th></th>\n",
       "      <th>gvkey</th>\n",
       "      <th>datadate</th>\n",
       "      <th>conm</th>\n",
       "      <th>at</th>\n",
       "      <th>cogs</th>\n",
       "      <th>csho</th>\n",
       "      <th>dvp</th>\n",
       "      <th>ebit</th>\n",
       "      <th>gp</th>\n",
       "      <th>ib</th>\n",
       "      <th>...</th>\n",
       "      <th>xopr</th>\n",
       "      <th>mkvalt</th>\n",
       "      <th>sic</th>\n",
       "      <th>bankrupt</th>\n",
       "      <th>Altman_X1</th>\n",
       "      <th>Altman_X2</th>\n",
       "      <th>Altman_X3</th>\n",
       "      <th>Altman_X4</th>\n",
       "      <th>Altman_X5</th>\n",
       "      <th>Z_Score</th>\n",
       "    </tr>\n",
       "  </thead>\n",
       "  <tbody>\n",
       "    <tr>\n",
       "      <th>0</th>\n",
       "      <td>1240</td>\n",
       "      <td>2002-01-31</td>\n",
       "      <td>ALBERTSON'S INC</td>\n",
       "      <td>15967.000</td>\n",
       "      <td>26094.000</td>\n",
       "      <td>407.000</td>\n",
       "      <td>0.0</td>\n",
       "      <td>1787.000</td>\n",
       "      <td>11837.000</td>\n",
       "      <td>501.000</td>\n",
       "      <td>...</td>\n",
       "      <td>35118.000</td>\n",
       "      <td>11701.2500</td>\n",
       "      <td>5411.0</td>\n",
       "      <td>0</td>\n",
       "      <td>0.064320</td>\n",
       "      <td>0.339074</td>\n",
       "      <td>0.111918</td>\n",
       "      <td>1.164072</td>\n",
       "      <td>2.375587</td>\n",
       "      <td>4.054972</td>\n",
       "    </tr>\n",
       "    <tr>\n",
       "      <th>1</th>\n",
       "      <td>1655</td>\n",
       "      <td>2002-01-31</td>\n",
       "      <td>ANGELICA CORP</td>\n",
       "      <td>290.865</td>\n",
       "      <td>246.466</td>\n",
       "      <td>8.608</td>\n",
       "      <td>0.0</td>\n",
       "      <td>12.856</td>\n",
       "      <td>103.597</td>\n",
       "      <td>1.629</td>\n",
       "      <td>...</td>\n",
       "      <td>326.107</td>\n",
       "      <td>101.5744</td>\n",
       "      <td>7200.0</td>\n",
       "      <td>0</td>\n",
       "      <td>0.161449</td>\n",
       "      <td>0.488845</td>\n",
       "      <td>0.044199</td>\n",
       "      <td>0.680060</td>\n",
       "      <td>1.203524</td>\n",
       "      <td>2.578078</td>\n",
       "    </tr>\n",
       "    <tr>\n",
       "      <th>2</th>\n",
       "      <td>1864</td>\n",
       "      <td>2002-01-31</td>\n",
       "      <td>REX AMERICAN RESOURCES CORP</td>\n",
       "      <td>307.329</td>\n",
       "      <td>325.912</td>\n",
       "      <td>8.163</td>\n",
       "      <td>0.0</td>\n",
       "      <td>22.236</td>\n",
       "      <td>138.591</td>\n",
       "      <td>22.554</td>\n",
       "      <td>...</td>\n",
       "      <td>438.069</td>\n",
       "      <td>240.4004</td>\n",
       "      <td>2860.0</td>\n",
       "      <td>0</td>\n",
       "      <td>0.300186</td>\n",
       "      <td>0.438319</td>\n",
       "      <td>0.072352</td>\n",
       "      <td>1.508575</td>\n",
       "      <td>1.511419</td>\n",
       "      <td>3.830851</td>\n",
       "    </tr>\n",
       "    <tr>\n",
       "      <th>3</th>\n",
       "      <td>1878</td>\n",
       "      <td>2002-01-31</td>\n",
       "      <td>AUTODESK INC</td>\n",
       "      <td>902.444</td>\n",
       "      <td>124.903</td>\n",
       "      <td>55.644</td>\n",
       "      <td>0.0</td>\n",
       "      <td>131.804</td>\n",
       "      <td>822.588</td>\n",
       "      <td>90.313</td>\n",
       "      <td>...</td>\n",
       "      <td>768.484</td>\n",
       "      <td>2281.4040</td>\n",
       "      <td>7370.0</td>\n",
       "      <td>0</td>\n",
       "      <td>0.214106</td>\n",
       "      <td>0.079664</td>\n",
       "      <td>0.146052</td>\n",
       "      <td>6.114234</td>\n",
       "      <td>1.049917</td>\n",
       "      <td>7.603973</td>\n",
       "    </tr>\n",
       "    <tr>\n",
       "      <th>4</th>\n",
       "      <td>2436</td>\n",
       "      <td>2002-01-31</td>\n",
       "      <td>CALERES INC</td>\n",
       "      <td>700.898</td>\n",
       "      <td>1044.110</td>\n",
       "      <td>17.484</td>\n",
       "      <td>0.0</td>\n",
       "      <td>54.842</td>\n",
       "      <td>711.738</td>\n",
       "      <td>0.949</td>\n",
       "      <td>...</td>\n",
       "      <td>1674.299</td>\n",
       "      <td>278.6950</td>\n",
       "      <td>3140.0</td>\n",
       "      <td>0</td>\n",
       "      <td>0.321669</td>\n",
       "      <td>0.206953</td>\n",
       "      <td>0.078245</td>\n",
       "      <td>0.627350</td>\n",
       "      <td>2.505141</td>\n",
       "      <td>3.739357</td>\n",
       "    </tr>\n",
       "  </tbody>\n",
       "</table>\n",
       "<p>5 rows × 31 columns</p>\n",
       "</div>"
      ],
      "text/plain": [
       "   gvkey    datadate                         conm         at       cogs  \\\n",
       "0   1240  2002-01-31              ALBERTSON'S INC  15967.000  26094.000   \n",
       "1   1655  2002-01-31                ANGELICA CORP    290.865    246.466   \n",
       "2   1864  2002-01-31  REX AMERICAN RESOURCES CORP    307.329    325.912   \n",
       "3   1878  2002-01-31                 AUTODESK INC    902.444    124.903   \n",
       "4   2436  2002-01-31                  CALERES INC    700.898   1044.110   \n",
       "\n",
       "      csho  dvp      ebit         gp       ib  ...       xopr      mkvalt  \\\n",
       "0  407.000  0.0  1787.000  11837.000  501.000  ...  35118.000  11701.2500   \n",
       "1    8.608  0.0    12.856    103.597    1.629  ...    326.107    101.5744   \n",
       "2    8.163  0.0    22.236    138.591   22.554  ...    438.069    240.4004   \n",
       "3   55.644  0.0   131.804    822.588   90.313  ...    768.484   2281.4040   \n",
       "4   17.484  0.0    54.842    711.738    0.949  ...   1674.299    278.6950   \n",
       "\n",
       "      sic  bankrupt  Altman_X1  Altman_X2  Altman_X3  Altman_X4  Altman_X5  \\\n",
       "0  5411.0         0   0.064320   0.339074   0.111918   1.164072   2.375587   \n",
       "1  7200.0         0   0.161449   0.488845   0.044199   0.680060   1.203524   \n",
       "2  2860.0         0   0.300186   0.438319   0.072352   1.508575   1.511419   \n",
       "3  7370.0         0   0.214106   0.079664   0.146052   6.114234   1.049917   \n",
       "4  3140.0         0   0.321669   0.206953   0.078245   0.627350   2.505141   \n",
       "\n",
       "    Z_Score  \n",
       "0  4.054972  \n",
       "1  2.578078  \n",
       "2  3.830851  \n",
       "3  7.603973  \n",
       "4  3.739357  \n",
       "\n",
       "[5 rows x 31 columns]"
      ]
     },
     "execution_count": 4,
     "metadata": {},
     "output_type": "execute_result"
    }
   ],
   "source": [
    "df['Z_Score'] = to_calculate.sum(axis = 1)\n",
    "df.head()"
   ]
  },
  {
   "cell_type": "code",
   "execution_count": 5,
   "metadata": {},
   "outputs": [
    {
     "data": {
      "text/html": [
       "<div>\n",
       "<style scoped>\n",
       "    .dataframe tbody tr th:only-of-type {\n",
       "        vertical-align: middle;\n",
       "    }\n",
       "\n",
       "    .dataframe tbody tr th {\n",
       "        vertical-align: top;\n",
       "    }\n",
       "\n",
       "    .dataframe thead th {\n",
       "        text-align: right;\n",
       "    }\n",
       "</style>\n",
       "<table border=\"1\" class=\"dataframe\">\n",
       "  <thead>\n",
       "    <tr style=\"text-align: right;\">\n",
       "      <th></th>\n",
       "      <th>gvkey</th>\n",
       "      <th>datadate</th>\n",
       "      <th>conm</th>\n",
       "      <th>at</th>\n",
       "      <th>cogs</th>\n",
       "      <th>csho</th>\n",
       "      <th>dvp</th>\n",
       "      <th>ebit</th>\n",
       "      <th>gp</th>\n",
       "      <th>ib</th>\n",
       "      <th>...</th>\n",
       "      <th>mkvalt</th>\n",
       "      <th>sic</th>\n",
       "      <th>bankrupt</th>\n",
       "      <th>Altman_X1</th>\n",
       "      <th>Altman_X2</th>\n",
       "      <th>Altman_X3</th>\n",
       "      <th>Altman_X4</th>\n",
       "      <th>Altman_X5</th>\n",
       "      <th>Z_Score</th>\n",
       "      <th>labels</th>\n",
       "    </tr>\n",
       "  </thead>\n",
       "  <tbody>\n",
       "    <tr>\n",
       "      <th>0</th>\n",
       "      <td>1240</td>\n",
       "      <td>2002-01-31</td>\n",
       "      <td>ALBERTSON'S INC</td>\n",
       "      <td>15967.000</td>\n",
       "      <td>26094.000</td>\n",
       "      <td>407.000</td>\n",
       "      <td>0.0</td>\n",
       "      <td>1787.000</td>\n",
       "      <td>11837.000</td>\n",
       "      <td>501.000</td>\n",
       "      <td>...</td>\n",
       "      <td>11701.2500</td>\n",
       "      <td>5411.0</td>\n",
       "      <td>0</td>\n",
       "      <td>0.064320</td>\n",
       "      <td>0.339074</td>\n",
       "      <td>0.111918</td>\n",
       "      <td>1.164072</td>\n",
       "      <td>2.375587</td>\n",
       "      <td>4.054972</td>\n",
       "      <td>0</td>\n",
       "    </tr>\n",
       "    <tr>\n",
       "      <th>1</th>\n",
       "      <td>1655</td>\n",
       "      <td>2002-01-31</td>\n",
       "      <td>ANGELICA CORP</td>\n",
       "      <td>290.865</td>\n",
       "      <td>246.466</td>\n",
       "      <td>8.608</td>\n",
       "      <td>0.0</td>\n",
       "      <td>12.856</td>\n",
       "      <td>103.597</td>\n",
       "      <td>1.629</td>\n",
       "      <td>...</td>\n",
       "      <td>101.5744</td>\n",
       "      <td>7200.0</td>\n",
       "      <td>0</td>\n",
       "      <td>0.161449</td>\n",
       "      <td>0.488845</td>\n",
       "      <td>0.044199</td>\n",
       "      <td>0.680060</td>\n",
       "      <td>1.203524</td>\n",
       "      <td>2.578078</td>\n",
       "      <td>1</td>\n",
       "    </tr>\n",
       "    <tr>\n",
       "      <th>2</th>\n",
       "      <td>1864</td>\n",
       "      <td>2002-01-31</td>\n",
       "      <td>REX AMERICAN RESOURCES CORP</td>\n",
       "      <td>307.329</td>\n",
       "      <td>325.912</td>\n",
       "      <td>8.163</td>\n",
       "      <td>0.0</td>\n",
       "      <td>22.236</td>\n",
       "      <td>138.591</td>\n",
       "      <td>22.554</td>\n",
       "      <td>...</td>\n",
       "      <td>240.4004</td>\n",
       "      <td>2860.0</td>\n",
       "      <td>0</td>\n",
       "      <td>0.300186</td>\n",
       "      <td>0.438319</td>\n",
       "      <td>0.072352</td>\n",
       "      <td>1.508575</td>\n",
       "      <td>1.511419</td>\n",
       "      <td>3.830851</td>\n",
       "      <td>0</td>\n",
       "    </tr>\n",
       "    <tr>\n",
       "      <th>3</th>\n",
       "      <td>1878</td>\n",
       "      <td>2002-01-31</td>\n",
       "      <td>AUTODESK INC</td>\n",
       "      <td>902.444</td>\n",
       "      <td>124.903</td>\n",
       "      <td>55.644</td>\n",
       "      <td>0.0</td>\n",
       "      <td>131.804</td>\n",
       "      <td>822.588</td>\n",
       "      <td>90.313</td>\n",
       "      <td>...</td>\n",
       "      <td>2281.4040</td>\n",
       "      <td>7370.0</td>\n",
       "      <td>0</td>\n",
       "      <td>0.214106</td>\n",
       "      <td>0.079664</td>\n",
       "      <td>0.146052</td>\n",
       "      <td>6.114234</td>\n",
       "      <td>1.049917</td>\n",
       "      <td>7.603973</td>\n",
       "      <td>0</td>\n",
       "    </tr>\n",
       "    <tr>\n",
       "      <th>4</th>\n",
       "      <td>2436</td>\n",
       "      <td>2002-01-31</td>\n",
       "      <td>CALERES INC</td>\n",
       "      <td>700.898</td>\n",
       "      <td>1044.110</td>\n",
       "      <td>17.484</td>\n",
       "      <td>0.0</td>\n",
       "      <td>54.842</td>\n",
       "      <td>711.738</td>\n",
       "      <td>0.949</td>\n",
       "      <td>...</td>\n",
       "      <td>278.6950</td>\n",
       "      <td>3140.0</td>\n",
       "      <td>0</td>\n",
       "      <td>0.321669</td>\n",
       "      <td>0.206953</td>\n",
       "      <td>0.078245</td>\n",
       "      <td>0.627350</td>\n",
       "      <td>2.505141</td>\n",
       "      <td>3.739357</td>\n",
       "      <td>0</td>\n",
       "    </tr>\n",
       "  </tbody>\n",
       "</table>\n",
       "<p>5 rows × 32 columns</p>\n",
       "</div>"
      ],
      "text/plain": [
       "   gvkey    datadate                         conm         at       cogs  \\\n",
       "0   1240  2002-01-31              ALBERTSON'S INC  15967.000  26094.000   \n",
       "1   1655  2002-01-31                ANGELICA CORP    290.865    246.466   \n",
       "2   1864  2002-01-31  REX AMERICAN RESOURCES CORP    307.329    325.912   \n",
       "3   1878  2002-01-31                 AUTODESK INC    902.444    124.903   \n",
       "4   2436  2002-01-31                  CALERES INC    700.898   1044.110   \n",
       "\n",
       "      csho  dvp      ebit         gp       ib  ...      mkvalt     sic  \\\n",
       "0  407.000  0.0  1787.000  11837.000  501.000  ...  11701.2500  5411.0   \n",
       "1    8.608  0.0    12.856    103.597    1.629  ...    101.5744  7200.0   \n",
       "2    8.163  0.0    22.236    138.591   22.554  ...    240.4004  2860.0   \n",
       "3   55.644  0.0   131.804    822.588   90.313  ...   2281.4040  7370.0   \n",
       "4   17.484  0.0    54.842    711.738    0.949  ...    278.6950  3140.0   \n",
       "\n",
       "   bankrupt  Altman_X1  Altman_X2  Altman_X3  Altman_X4  Altman_X5   Z_Score  \\\n",
       "0         0   0.064320   0.339074   0.111918   1.164072   2.375587  4.054972   \n",
       "1         0   0.161449   0.488845   0.044199   0.680060   1.203524  2.578078   \n",
       "2         0   0.300186   0.438319   0.072352   1.508575   1.511419  3.830851   \n",
       "3         0   0.214106   0.079664   0.146052   6.114234   1.049917  7.603973   \n",
       "4         0   0.321669   0.206953   0.078245   0.627350   2.505141  3.739357   \n",
       "\n",
       "   labels  \n",
       "0       0  \n",
       "1       1  \n",
       "2       0  \n",
       "3       0  \n",
       "4       0  \n",
       "\n",
       "[5 rows x 32 columns]"
      ]
     },
     "execution_count": 5,
     "metadata": {},
     "output_type": "execute_result"
    }
   ],
   "source": [
    "labels = []\n",
    "for row in df['Z_Score']:\n",
    "    if row >= 2.675:\n",
    "        labels.append(0)\n",
    "    else:\n",
    "        labels.append(1)\n",
    "        \n",
    "df['labels'] = labels\n",
    "df.head()"
   ]
  },
  {
   "cell_type": "code",
   "execution_count": 6,
   "metadata": {},
   "outputs": [
    {
     "data": {
      "text/plain": [
       "array([[17376,  9262],\n",
       "       [   22,   159]])"
      ]
     },
     "execution_count": 6,
     "metadata": {},
     "output_type": "execute_result"
    }
   ],
   "source": [
    "from sklearn.metrics import confusion_matrix\n",
    "y_true = df['bankrupt']\n",
    "y_pred = df['labels']\n",
    "confusion_matrix(y_true, y_pred)"
   ]
  },
  {
   "cell_type": "code",
   "execution_count": 7,
   "metadata": {},
   "outputs": [
    {
     "data": {
      "text/plain": [
       "(17376, 9262, 22, 159)"
      ]
     },
     "execution_count": 7,
     "metadata": {},
     "output_type": "execute_result"
    }
   ],
   "source": [
    "tn, fp, fn, tp = confusion_matrix(y_true, y_pred).ravel()\n",
    "tn, fp, fn, tp"
   ]
  },
  {
   "cell_type": "code",
   "execution_count": 8,
   "metadata": {},
   "outputs": [
    {
     "data": {
      "text/plain": [
       "0.03311810039575089"
      ]
     },
     "execution_count": 8,
     "metadata": {},
     "output_type": "execute_result"
    }
   ],
   "source": [
    "from sklearn.metrics import f1_score\n",
    "f1_score(y_true, y_pred)"
   ]
  },
  {
   "cell_type": "markdown",
   "metadata": {},
   "source": [
    "## Question 2"
   ]
  },
  {
   "cell_type": "code",
   "execution_count": 9,
   "metadata": {
    "scrolled": true
   },
   "outputs": [
    {
     "name": "stdout",
     "output_type": "stream",
     "text": [
      "<class 'pandas.core.frame.DataFrame'>\n",
      "RangeIndex: 26819 entries, 0 to 26818\n",
      "Data columns (total 5 columns):\n",
      " #   Column     Non-Null Count  Dtype  \n",
      "---  ------     --------------  -----  \n",
      " 0   Altman_X1  26819 non-null  float64\n",
      " 1   Altman_X2  26819 non-null  float64\n",
      " 2   Altman_X3  26819 non-null  float64\n",
      " 3   Altman_X4  26819 non-null  float64\n",
      " 4   Altman_X5  26819 non-null  float64\n",
      "dtypes: float64(5)\n",
      "memory usage: 1.0 MB\n"
     ]
    }
   ],
   "source": [
    "y = df['bankrupt'].copy()\n",
    "X = df[['Altman_X1','Altman_X2','Altman_X3','Altman_X4','Altman_X5']].copy()\n",
    "X.info()"
   ]
  },
  {
   "cell_type": "code",
   "execution_count": 10,
   "metadata": {},
   "outputs": [],
   "source": [
    "X_train, X_test, y_train, y_test = train_test_split(X,y, test_size = 0.30, random_state = 1)\n",
    "from sklearn.linear_model import LogisticRegression\n",
    "clf1 = LogisticRegression(random_state=1).fit(X_train, y_train)\n",
    "from sklearn import tree\n",
    "clf2 = tree.DecisionTreeClassifier(random_state=1).fit(X_train, y_train)\n",
    "from xgboost import XGBClassifier\n",
    "clf3 = XGBClassifier(random_state=1).fit(X_train, y_train) "
   ]
  },
  {
   "cell_type": "code",
   "execution_count": 11,
   "metadata": {},
   "outputs": [
    {
     "name": "stdout",
     "output_type": "stream",
     "text": [
      "[0.99378882 0.99440646 0.99502797 0.99378496 0.99378496]\n",
      "[0.99068323 0.99067744 0.98570541 0.98819142 0.98819142]\n",
      "[0.99254658 0.99502797 0.99564947 0.99316346 0.99316346]\n"
     ]
    }
   ],
   "source": [
    "from sklearn.model_selection import cross_val_score\n",
    "scores_lg = cross_val_score(clf1, X_test, y_test, cv=5)\n",
    "scores_cart = cross_val_score(clf2, X_test, y_test, cv=5)\n",
    "scores_xgb = cross_val_score(clf3, X_test, y_test, cv=5)\n",
    "print(scores_lg)\n",
    "print(scores_cart)\n",
    "print(scores_xgb)"
   ]
  },
  {
   "cell_type": "code",
   "execution_count": 12,
   "metadata": {},
   "outputs": [
    {
     "name": "stdout",
     "output_type": "stream",
     "text": [
      "0.039999999999999994\n",
      "0.11764705882352941\n",
      "0.06349206349206349\n"
     ]
    }
   ],
   "source": [
    "from sklearn.metrics import f1_score\n",
    "y_pred_lg = clf1.predict(X_test)\n",
    "y_pred_cart = clf2.predict(X_test)\n",
    "y_pred_xgb = clf3.predict(X_test)\n",
    "\n",
    "f1_lg = f1_score(y_test,y_pred_lg)\n",
    "f1_cart = f1_score(y_test,y_pred_cart)\n",
    "f1_xgb = f1_score(y_test,y_pred_xgb)\n",
    "\n",
    "print(f1_lg)\n",
    "print(f1_cart)\n",
    "print(f1_xgb)"
   ]
  },
  {
   "cell_type": "markdown",
   "metadata": {},
   "source": [
    "## Question 3"
   ]
  },
  {
   "cell_type": "code",
   "execution_count": 13,
   "metadata": {},
   "outputs": [],
   "source": [
    "X_train, X_test, y_train, y_test = train_test_split(X,y, test_size = 0.30, random_state = 1)"
   ]
  },
  {
   "cell_type": "code",
   "execution_count": 14,
   "metadata": {},
   "outputs": [],
   "source": [
    "clf2 = tree.DecisionTreeClassifier(random_state=1).fit(X_train, y_train)\n",
    "\n",
    "from imblearn.over_sampling import SMOTE\n",
    "from imblearn.pipeline import Pipeline\n",
    "\n",
    "over = SMOTE(sampling_strategy=0.5)\n",
    "steps = [('o', over)]\n",
    "pipeline = Pipeline(steps=steps)\n",
    "X_train, y_train= pipeline.fit_resample(X_train, y_train)\n",
    "\n",
    "clf2 = tree.DecisionTreeClassifier(random_state=1).fit(X_train, y_train)"
   ]
  },
  {
   "cell_type": "code",
   "execution_count": 15,
   "metadata": {},
   "outputs": [
    {
     "name": "stdout",
     "output_type": "stream",
     "text": [
      "[0.99068323 0.99067744 0.98570541 0.98819142 0.98819142]\n"
     ]
    }
   ],
   "source": [
    "scores_cart = cross_val_score(clf2, X_test, y_test, cv=5)\n",
    "print(scores_cart)"
   ]
  },
  {
   "cell_type": "code",
   "execution_count": 16,
   "metadata": {},
   "outputs": [
    {
     "name": "stdout",
     "output_type": "stream",
     "text": [
      "0.11377245508982037\n"
     ]
    }
   ],
   "source": [
    "y_pred_cart = clf2.predict(X_test)\n",
    "f1_cart = f1_score(y_test,y_pred_cart)\n",
    "print(f1_cart)"
   ]
  },
  {
   "cell_type": "code",
   "execution_count": 17,
   "metadata": {},
   "outputs": [],
   "source": [
    "from imblearn.under_sampling import EditedNearestNeighbours\n",
    "neigh = EditedNearestNeighbours(n_neighbors=5)\n",
    "X_train, y_train = neigh.fit_resample(X_train, y_train)"
   ]
  },
  {
   "cell_type": "code",
   "execution_count": 18,
   "metadata": {},
   "outputs": [],
   "source": [
    "clf2 = tree.DecisionTreeClassifier(random_state=1).fit(X_train, y_train)"
   ]
  },
  {
   "cell_type": "code",
   "execution_count": 19,
   "metadata": {},
   "outputs": [
    {
     "name": "stdout",
     "output_type": "stream",
     "text": [
      "[0.99068323 0.99067744 0.98570541 0.98819142 0.98819142]\n"
     ]
    }
   ],
   "source": [
    "scores_cart = cross_val_score(clf2, X_test, y_test, cv=5)\n",
    "print(scores_cart)"
   ]
  },
  {
   "cell_type": "code",
   "execution_count": 20,
   "metadata": {},
   "outputs": [
    {
     "name": "stdout",
     "output_type": "stream",
     "text": [
      "0.09111617312072892\n"
     ]
    }
   ],
   "source": [
    "y_pred_cart = clf2.predict(X_test)\n",
    "f1_cart = f1_score(y_test,y_pred_cart)\n",
    "print(f1_cart)"
   ]
  },
  {
   "cell_type": "code",
   "execution_count": 21,
   "metadata": {},
   "outputs": [],
   "source": [
    "y = df['bankrupt'].copy()\n",
    "X = df[['Altman_X1','Altman_X2','Altman_X3','Altman_X4','Altman_X5']].copy()\n",
    "class_weight = {0: 1., 1: 40}"
   ]
  },
  {
   "cell_type": "code",
   "execution_count": 22,
   "metadata": {},
   "outputs": [],
   "source": [
    "X_train, X_test, y_train, y_test = train_test_split(X,y, test_size = 0.30, random_state = 1)\n",
    "clf2 = tree.DecisionTreeClassifier(random_state=1, class_weight=class_weight).fit(X_train, y_train)"
   ]
  },
  {
   "cell_type": "code",
   "execution_count": 23,
   "metadata": {},
   "outputs": [
    {
     "name": "stdout",
     "output_type": "stream",
     "text": [
      "[0.9863354  0.99005594 0.99067744 0.98756992 0.99254195]\n"
     ]
    }
   ],
   "source": [
    "scores_cart = cross_val_score(clf2, X_test, y_test, cv=5)\n",
    "print(scores_cart)"
   ]
  },
  {
   "cell_type": "code",
   "execution_count": 24,
   "metadata": {},
   "outputs": [
    {
     "name": "stdout",
     "output_type": "stream",
     "text": [
      "0.10101010101010101\n"
     ]
    }
   ],
   "source": [
    "y_pred_cart = clf2.predict(X_test)\n",
    "f1_cart = f1_score(y_test,y_pred_cart)\n",
    "print(f1_cart)"
   ]
  },
  {
   "cell_type": "markdown",
   "metadata": {},
   "source": [
    "## Question 4"
   ]
  },
  {
   "cell_type": "code",
   "execution_count": 25,
   "metadata": {
    "scrolled": true
   },
   "outputs": [
    {
     "name": "stdout",
     "output_type": "stream",
     "text": [
      "<class 'pandas.core.frame.DataFrame'>\n",
      "RangeIndex: 26819 entries, 0 to 26818\n",
      "Data columns (total 26 columns):\n",
      " #   Column     Non-Null Count  Dtype  \n",
      "---  ------     --------------  -----  \n",
      " 0   at         26819 non-null  float64\n",
      " 1   cogs       26819 non-null  float64\n",
      " 2   csho       26819 non-null  float64\n",
      " 3   dvp        26819 non-null  float64\n",
      " 4   ebit       26819 non-null  float64\n",
      " 5   gp         26819 non-null  float64\n",
      " 6   ib         26819 non-null  float64\n",
      " 7   lct        26819 non-null  float64\n",
      " 8   lt         26819 non-null  float64\n",
      " 9   ni         26819 non-null  float64\n",
      " 10  niadj      26819 non-null  float64\n",
      " 11  oiadp      26819 non-null  float64\n",
      " 12  pi         26819 non-null  float64\n",
      " 13  re         26819 non-null  float64\n",
      " 14  revt       26819 non-null  float64\n",
      " 15  sale       26819 non-null  float64\n",
      " 16  wcap       26819 non-null  float64\n",
      " 17  xido       26819 non-null  float64\n",
      " 18  xopr       26819 non-null  float64\n",
      " 19  mkvalt     26819 non-null  float64\n",
      " 20  sic        26819 non-null  float32\n",
      " 21  Altman_X1  26819 non-null  float64\n",
      " 22  Altman_X2  26819 non-null  float64\n",
      " 23  Altman_X3  26819 non-null  float64\n",
      " 24  Altman_X4  26819 non-null  float64\n",
      " 25  Altman_X5  26819 non-null  float64\n",
      "dtypes: float32(1), float64(25)\n",
      "memory usage: 5.2 MB\n"
     ]
    }
   ],
   "source": [
    "from keras.utils import to_categorical\n",
    "y = df['bankrupt'].copy()\n",
    "X = df.drop(['gvkey','datadate','conm','bankrupt','labels','Z_Score'], 1)\n",
    "X['sic'] = to_categorical(X['sic'])\n",
    "X.info()"
   ]
  },
  {
   "cell_type": "code",
   "execution_count": 26,
   "metadata": {},
   "outputs": [],
   "source": [
    "X_train, X_test, y_train, y_test = train_test_split(X,y, test_size = 0.20, random_state = 1)\n",
    "over = SMOTE(sampling_strategy=0.5)\n",
    "steps = [('o', over)]\n",
    "pipeline = Pipeline(steps=steps)\n",
    "X_train, y_train = pipeline.fit_resample(X_train, y_train)"
   ]
  },
  {
   "cell_type": "code",
   "execution_count": 27,
   "metadata": {},
   "outputs": [],
   "source": [
    "neigh = EditedNearestNeighbours(n_neighbors=5)\n",
    "X_train, y_train = neigh.fit_resample(X_train, y_train)"
   ]
  },
  {
   "cell_type": "code",
   "execution_count": null,
   "metadata": {
    "scrolled": true
   },
   "outputs": [],
   "source": [
    "%%time\n",
    "\n",
    "parameters = {\n",
    "    'n_estimators': [200, 400, 600],\n",
    "    'max_depth': [6, 8 ,10],\n",
    "    'gamma': [0.02, 0.025, 0.03],\n",
    "    'min_child_weight': [1, 3, 5],\n",
    "    'subsample': [0.6,0.8,1.0],\n",
    "    'colsample_bytree': [0.6,0.8,1.0],\n",
    "    'random_state': [1],\n",
    "    'objective':['binary:logistic']\n",
    "}\n",
    "eval_set = [(X_train, y_train), (X_test, y_test)]\n",
    "model = XGBClassifier(random_state=1)\n",
    "clf = GridSearchCV(model, parameters,n_jobs=5, scoring='roc_auc')\n",
    "clf.fit(X_train, y_train)\n",
    "\n",
    "print(f'Best params: {clf.best_params_}')\n",
    "print(f'Best validation score = {clf.best_score_}')"
   ]
  },
  {
   "cell_type": "code",
   "execution_count": null,
   "metadata": {
    "scrolled": true
   },
   "outputs": [],
   "source": [
    "%%time\n",
    "\n",
    "model = XGBClassifier(**clf.best_params_)\n",
    "model.fit(X_train, y_train, eval_set=eval_set, verbose=False)"
   ]
  },
  {
   "cell_type": "code",
   "execution_count": null,
   "metadata": {},
   "outputs": [],
   "source": [
    "import sklearn.metrics as metrics\n",
    "# calculate the fpr and tpr for all thresholds of the classification\n",
    "probs = model.predict_proba(X_test)\n",
    "preds = probs[:,1]\n",
    "fpr, tpr, threshold = metrics.roc_curve(y_test, preds)\n",
    "roc_auc = metrics.auc(fpr, tpr)\n",
    "\n",
    "import matplotlib.pyplot as plt\n",
    "plt.title('Receiver Operating Characteristic')\n",
    "plt.plot(fpr, tpr, 'b', label = 'AUC = %0.2f' % roc_auc)\n",
    "plt.legend(loc = 'lower right')\n",
    "plt.plot([0, 1], [0, 1],'r--')\n",
    "plt.xlim([0, 1])\n",
    "plt.ylim([0, 1])\n",
    "plt.ylabel('True Positive Rate')\n",
    "plt.xlabel('False Positive Rate')\n",
    "plt.show()"
   ]
  },
  {
   "cell_type": "code",
   "execution_count": null,
   "metadata": {},
   "outputs": [],
   "source": [
    "test = pd.read_csv(\"test.csv\")\n",
    "X_test = test.drop(['id','bankrupt'], 1)\n",
    "X_test['sic'] = to_categorical(X_test['sic'])"
   ]
  },
  {
   "cell_type": "code",
   "execution_count": null,
   "metadata": {},
   "outputs": [],
   "source": [
    "y_pred = model.predict_proba(X_test)"
   ]
  },
  {
   "cell_type": "code",
   "execution_count": null,
   "metadata": {},
   "outputs": [],
   "source": [
    "y_pred = y_pred[:,1]"
   ]
  },
  {
   "cell_type": "code",
   "execution_count": null,
   "metadata": {},
   "outputs": [],
   "source": [
    "sample = pd.read_csv('submission_A01XXXXX.csv')\n",
    "newsample = sample.drop('predict_prob', axis = 1)"
   ]
  },
  {
   "cell_type": "code",
   "execution_count": null,
   "metadata": {},
   "outputs": [],
   "source": [
    "newsample['predict_prob'] = y_pred\n",
    "newsample.to_csv('submission_A0180287Y.csv', header=True, index=False)"
   ]
  },
  {
   "cell_type": "markdown",
   "metadata": {},
   "source": [
    "## Question 5"
   ]
  },
  {
   "cell_type": "code",
   "execution_count": null,
   "metadata": {},
   "outputs": [],
   "source": [
    "plot_importance(model, max_num_features = 10)"
   ]
  },
  {
   "cell_type": "markdown",
   "metadata": {},
   "source": [
    "## X2 is no longer the most important as it is not featured in the feature importance barplot. Only X5 become the most important while the others are not featured in the top 5"
   ]
  },
  {
   "cell_type": "code",
   "execution_count": null,
   "metadata": {},
   "outputs": [],
   "source": []
  }
 ],
 "metadata": {
  "kernelspec": {
   "display_name": "Python 3",
   "language": "python",
   "name": "python3"
  },
  "language_info": {
   "codemirror_mode": {
    "name": "ipython",
    "version": 3
   },
   "file_extension": ".py",
   "mimetype": "text/x-python",
   "name": "python",
   "nbconvert_exporter": "python",
   "pygments_lexer": "ipython3",
   "version": "3.8.3"
  }
 },
 "nbformat": 4,
 "nbformat_minor": 4
}
